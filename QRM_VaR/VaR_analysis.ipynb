{
 "cells": [
  {
   "cell_type": "code",
   "execution_count": 9,
   "metadata": {},
   "outputs": [],
   "source": [
    "### Library Imports\n",
    "import pandas as pd\n",
    "import yfinance as yf\n",
    "import numpy as np\n"
   ]
  },
  {
   "cell_type": "code",
   "execution_count": 10,
   "metadata": {},
   "outputs": [
    {
     "name": "stderr",
     "output_type": "stream",
     "text": [
      "[*********************100%%**********************]  10 of 10 completed"
     ]
    },
    {
     "name": "stdout",
     "output_type": "stream",
     "text": [
      "           Date        AAPL        MSFT        GOOG         JNJ         XOM  \\\n",
      "1253 2023-12-22  192.868149  142.370361  151.898438  164.497726  372.543945   \n",
      "1254 2023-12-26  192.320206  142.470123  152.562851  165.470566  372.623505   \n",
      "1255 2023-12-27  192.419830  141.093506  152.768051  166.463058  372.036713   \n",
      "1256 2023-12-28  192.848206  140.933899  152.992767  167.347473  373.240112   \n",
      "1257 2023-12-29  191.802170  140.584747  153.149124  167.150925  373.995972   \n",
      "\n",
      "           TSLA         JPM         UNH        NVDA         PG  \n",
      "1253  48.819527  142.584473  252.539993  516.077576  99.358162  \n",
      "1254  49.268425  143.232239  256.609985  515.799866  99.582397  \n",
      "1255  49.406395  143.350006  261.440002  518.537415  99.114418  \n",
      "1256  49.511375  143.026123  253.179993  520.630249  97.681236  \n",
      "1257  49.511375  143.821106  248.479996  522.187439  97.476486  \n"
     ]
    },
    {
     "name": "stderr",
     "output_type": "stream",
     "text": [
      "\n"
     ]
    }
   ],
   "source": [
    "### Function to Import Stock Data\n",
    "def import_stock_data(tickers, start_date, end_date):\n",
    "    data = pd.DataFrame()\n",
    "    if len([tickers]) == 1:\n",
    "        data[tickers] = yf.download(tickers, start_date, end_date)['Adj Close']\n",
    "        data = pd.DataFrame(data)\n",
    "    else:\n",
    "        for t in tickers:\n",
    "            data[t] = yf.download(tickers, start_date, end_date)['Adj Close']\n",
    "    \n",
    "    # Reset index to include the Date as a column\n",
    "    data = data.reset_index()\n",
    "\n",
    "    return data\n",
    "\n",
    "tickers = ['AAPL', 'MSFT', 'GOOG', 'JNJ', 'XOM', 'TSLA', 'JPM', 'UNH', 'NVDA', 'PG']\n",
    "start_date = '2019-01-01'\n",
    "end_date = '2024-01-01'\n",
    "stock_data = import_stock_data(tickers, start_date, end_date)\n",
    "print(stock_data.tail())"
   ]
  },
  {
   "cell_type": "code",
   "execution_count": 11,
   "metadata": {},
   "outputs": [
    {
     "name": "stdout",
     "output_type": "stream",
     "text": [
      "          AAPL      MSFT      GOOG       JNJ       XOM      TSLA       JPM  \\\n",
      "1253 -0.005547  0.006488  0.004004 -0.000597  0.002784 -0.003266  0.007071   \n",
      "1254 -0.002841  0.000701  0.004374  0.005914  0.000214  0.009195  0.004543   \n",
      "1255  0.000518 -0.009662  0.001345  0.005998 -0.001575  0.002800  0.000822   \n",
      "1256  0.002226 -0.001131  0.001471  0.005313  0.003235  0.002125 -0.002259   \n",
      "1257 -0.005424 -0.002477  0.001022 -0.001174  0.002025  0.000000  0.005558   \n",
      "\n",
      "           UNH      NVDA        PG  \n",
      "1253 -0.007701  0.000827  0.001769  \n",
      "1254  0.016116 -0.000538  0.002257  \n",
      "1255  0.018822  0.005307 -0.004699  \n",
      "1256 -0.031594  0.004036 -0.014460  \n",
      "1257 -0.018564  0.002991 -0.002096  \n",
      "[0.32222, 0.31806, 0.19855, 0.31885, 0.30479, 0.51749, 0.21153, 0.64674, 0.29493, 0.34262]\n"
     ]
    }
   ],
   "source": [
    "### Function to Compute Daily Returns\n",
    "''' \n",
    "The percentage change in stock price from day t-1 to day t is given by:\n",
    "    R(i,t) = [P(i,t) - P(i,t-1)]​ / P(i,t-1)\n",
    "In our case, use the pre-built python pct_change() function\n",
    "'''\n",
    "def daily_returns(stock_data):\n",
    "    # Drop the date column\n",
    "    stock_data = stock_data.drop(columns = ['Date'])\n",
    "    # Compute the percentage change\n",
    "    rets = stock_data.pct_change().dropna()\n",
    "    \n",
    "    return rets\n",
    "\n",
    "# Call the function to compute the daily returns for error checking\n",
    "returns = daily_returns(stock_data)\n",
    "print(returns.tail())\n",
    "\n",
    "### Function to Compute Volatilities\n",
    "def volatility(tickers, returns):\n",
    "    # Create list to store volatilities\n",
    "    volatilities = []  \n",
    "    # Iterate over each ticker in tickers list\n",
    "    for ticker in tickers:\n",
    "        # Compute annualized volatility\n",
    "        sigma = np.std(returns[ticker]) * np.sqrt(252)  \n",
    "        volatilities.append(round(sigma, 5))  \n",
    "        \n",
    "    return volatilities\n",
    "\n",
    "# Call the function to compute the volatility for each stock\n",
    "vols = volatility(tickers, returns)\n",
    "print(vols)\n"
   ]
  },
  {
   "cell_type": "code",
   "execution_count": 12,
   "metadata": {},
   "outputs": [
    {
     "name": "stdout",
     "output_type": "stream",
     "text": [
      "The sum of the weights is: 0.99999 and should be 1\n",
      "[0.09633, 0.09759, 0.15633, 0.09735, 0.10184, 0.05998, 0.14674, 0.04799, 0.10524, 0.0906]\n"
     ]
    }
   ],
   "source": [
    "### Function to build Risk-Parity Portfolio\n",
    "''' \n",
    "The Risk-Parity Portfolio method allocates more weight to less volatile stocks and less weight to more volatile stocks, \n",
    "aiming to equalize the contribution of each stock to the total portfolio risk. Calculation is as follows:\n",
    "    1. Estimate the volatility (standard deviation) of each stock's returns\n",
    "    2. Assign weights inversely proportional to the volatility:\n",
    "        w(i) = (1/σ(i)) / (sum_(j=1)^10 1/σ(j))\n",
    "'''\n",
    "def risk_parity_weights(volatilities):\n",
    "    # Empty list to store weights\n",
    "    weights = []\n",
    "    # Inverse sum volatilities for denominator\n",
    "    inv_sum_vols = sum(1 / vol for vol in volatilities)\n",
    "    # Iterate over values in volatilities list\n",
    "    for vol in volatilities:\n",
    "        # Weights calculation\n",
    "        weight = (1 / vol) / inv_sum_vols\n",
    "        weights.append(round(weight, 5))\n",
    "\n",
    "    return weights\n",
    "\n",
    "weights = risk_parity_weights(vols)\n",
    "print('The sum of the weights is:', round(sum(weights), 6), 'and should be 1')\n",
    "print(weights)\n"
   ]
  },
  {
   "cell_type": "code",
   "execution_count": 13,
   "metadata": {},
   "outputs": [
    {
     "name": "stdout",
     "output_type": "stream",
     "text": [
      "           Date  Portfolio_Returns\n",
      "1253 2023-12-22           0.001670\n",
      "1254 2023-12-26           0.003215\n",
      "1255 2023-12-27           0.001065\n",
      "1256 2023-12-28          -0.001425\n",
      "1257 2023-12-29          -0.000463\n"
     ]
    }
   ],
   "source": [
    "### Compute Daily Portfolio Returns\n",
    "''' \n",
    "The daily portfolio return is computed as the weighted sum of the returns of each stock for that particular day, equation:\n",
    "   R_{portfolio,t} = (sum_(i=1)^10 w_i * R_{i,t})\n",
    "\n",
    "For Each Day t (e.g., Day 1):\n",
    "    Take the return of stock 1 on day 1 and multiply it by the weight of stock 1.\n",
    "    Take the return of stock 2 on day 1 and multiply it by the weight of stock 2.\n",
    "    Repeat this for all 10 stocks.\n",
    "\n",
    "Then, sum all these weighted returns to get the portfolio return for day 1:\n",
    "    R_{portfolio,t=1} = w_1R_{1,1} + w_2R_{2,1} +...+ w_10R_{10,1}\n",
    "'''\n",
    "# Compute the portfolio returns by multiplying the daily returns with the weights\n",
    "portfolio_rets = returns.dot(weights)\n",
    "# Convert portfolio rets to df\n",
    "dates = stock_data['Date']\n",
    "portfolio_rets_df = pd.DataFrame({\n",
    "    'Date': dates,\n",
    "    'Portfolio_Returns': portfolio_rets\n",
    "})\n",
    "# Display the portfolio returns\n",
    "print(portfolio_rets_df.tail())\n"
   ]
  },
  {
   "cell_type": "code",
   "execution_count": 14,
   "metadata": {},
   "outputs": [
    {
     "name": "stdout",
     "output_type": "stream",
     "text": [
      "          AAPL      MSFT      GOOG       JNJ       XOM      TSLA       JPM  \\\n",
      "AAPL  0.000412  0.000274  0.000103  0.000186  0.000296  0.000435  0.000120   \n",
      "MSFT  0.000274  0.000402  0.000086  0.000176  0.000290  0.000408  0.000100   \n",
      "GOOG  0.000103  0.000086  0.000157  0.000104  0.000100  0.000095  0.000100   \n",
      "JNJ   0.000186  0.000176  0.000104  0.000404  0.000174  0.000246  0.000105   \n",
      "XOM   0.000296  0.000290  0.000100  0.000174  0.000369  0.000443  0.000124   \n",
      "TSLA  0.000435  0.000408  0.000095  0.000246  0.000443  0.001064  0.000126   \n",
      "JPM   0.000120  0.000100  0.000100  0.000105  0.000124  0.000126  0.000178   \n",
      "UNH   0.000404  0.000333  0.000055  0.000226  0.000355  0.000666  0.000066   \n",
      "NVDA  0.000171  0.000149  0.000121  0.000178  0.000173  0.000210  0.000117   \n",
      "PG    0.000139  0.000130  0.000083  0.000256  0.000116  0.000169  0.000068   \n",
      "\n",
      "           UNH      NVDA        PG  \n",
      "AAPL  0.000404  0.000171  0.000139  \n",
      "MSFT  0.000333  0.000149  0.000130  \n",
      "GOOG  0.000055  0.000121  0.000083  \n",
      "JNJ   0.000226  0.000178  0.000256  \n",
      "XOM   0.000355  0.000173  0.000116  \n",
      "TSLA  0.000666  0.000210  0.000169  \n",
      "JPM   0.000066  0.000117  0.000068  \n",
      "UNH   0.001661  0.000155  0.000150  \n",
      "NVDA  0.000155  0.000345  0.000150  \n",
      "PG    0.000150  0.000150  0.000466  \n"
     ]
    }
   ],
   "source": [
    "### Build Variance-Covariance Matrix\n",
    "''' \n",
    "The covariance between two stocks i and j is calculated as:\n",
    "    Cov(R_i, R_j) = (1 / (T - 1)) * sum_{t=1}^T (R_{i,t} - R̄_i)(R_{j,t} - R̄_j)\n",
    "Where:\n",
    "    R_{i,t} and R_{j,t} are the daily returns of stocks i and j on day t,\n",
    "    R̄_i and R̄_j are the average returns of stocks i and j over the period,\n",
    "    T is the number of time periods\n",
    "We will check our work using the pre-defined .cov() function\n",
    "'''\n",
    "def var_cov_matrix(tickers, daily_rets):\n",
    "    # Initialize Empty Covariance Matrix\n",
    "    num_stocks = len(daily_rets.columns)\n",
    "    matrix = np.zeros((num_stocks, num_stocks))\n",
    "    # Find T (number of days)\n",
    "    T = len(returns)\n",
    "    # Calculate the mean of each stock's returns\n",
    "    mean_returns = daily_rets.mean()\n",
    "    # Iterate to populate cov matrix\n",
    "    for i in range(num_stocks):\n",
    "        for j in range(num_stocks):\n",
    "            # Covariance Matrix equation w/ indexing\n",
    "            matrix[i, j] = (1 / (T - 1)) * np.sum((daily_rets.iloc[:, i] - mean_returns[i]) * (daily_rets.iloc[:, j] - mean_returns[j]))\n",
    "\n",
    "    # Convert the covariance matrix to a DataFrame for readability\n",
    "    cov_matrix_df = pd.DataFrame(matrix, index = daily_rets.columns, columns = daily_rets.columns)\n",
    "\n",
    "    return cov_matrix_df\n",
    "\n",
    "cov_matrix = var_cov_matrix(tickers, returns)\n",
    "print(cov_matrix)\n"
   ]
  },
  {
   "cell_type": "markdown",
   "metadata": {},
   "source": [
    "### Covariance Between Two Stocks:\n",
    "Each element in the covariance matrix represents the covariance between two stocks. Covariance is a measure of how two stocks' returns move together:\n",
    "\n",
    "- **Positive Covariance**: If the covariance between two stocks is positive, it means that their returns tend to move in the same direction. When one stock’s return increases, the other’s return is likely to increase as well.\n",
    "- **Negative Covariance**: A negative covariance indicates that the returns of the two stocks move in opposite directions. When one stock’s return increases, the other’s return tends to decrease.\n",
    "- **Zero Covariance**: If the covariance is close to zero, the two stocks are not strongly correlated, meaning their returns move independently of each other.\n",
    "\n",
    "### Variance of Each Stock (Diagonal Elements):\n",
    "The diagonal elements of the covariance matrix represent the variance of each individual stock, which is the covariance of the stock with itself.\n",
    "Variance is a measure of the dispersion of a stock’s returns around its mean. A higher variance means the stock’s returns are more spread out, indicating higher volatility (risk).\n",
    "\n",
    "For stock \\(i\\), the variance is:\n",
    "    Var(R_i) = Cov(R_i, R_i)\n"
   ]
  },
  {
   "cell_type": "code",
   "execution_count": 19,
   "metadata": {},
   "outputs": [
    {
     "name": "stdout",
     "output_type": "stream",
     "text": [
      "Variance: 0.0001822544689831416\n",
      "Volatility: 0.013500165516879473\n"
     ]
    }
   ],
   "source": [
    "### Calculate Portfolio Variance and Volatility\n",
    "''' \n",
    "The portfolio variance is calculated as:\n",
    "    Var(R_{portfolio}) = w^T \\Sigma w\n",
    "Where:\n",
    "- w^T is the transpose of the weight vector\n",
    "- Sigma is the covariance matrix\n",
    "- w is the vector of portfolio weights\n",
    "'''\n",
    "def calc_var_and_vol(weights, cov_matrix):\n",
    "    # Compute transpose of weights matrix\n",
    "    weights_arr = np.array(weights) # Convert weights to an array\n",
    "    transpose = weights_arr.T\n",
    "    # Perform matrix multiplication (dot product) between covariance matrix and weights vector\n",
    "    prod = np.dot(cov_matrix, weights)\n",
    "    # Compute the dot product between prod and the weights transpose\n",
    "    var = np.dot(transpose, prod)\n",
    "\n",
    "    # Compute the portfolio volatility = sqrt(var)\n",
    "    vol = np.sqrt(var)\n",
    "\n",
    "    return var, vol\n",
    "\n",
    "variance, volatility = calc_var_and_vol(weights, cov_matrix)\n",
    "print('Variance:', variance)\n",
    "print('Volatility:', volatility)\n"
   ]
  },
  {
   "cell_type": "code",
   "execution_count": 24,
   "metadata": {},
   "outputs": [
    {
     "name": "stderr",
     "output_type": "stream",
     "text": [
      "[*********************100%%**********************]  1 of 1 completed"
     ]
    },
    {
     "name": "stdout",
     "output_type": "stream",
     "text": [
      "[1.21659, 1.1317, 0.52445, 1.09952, 1.18308, 1.73021, 0.58526, 1.50446, 0.86173, 0.88562]\n"
     ]
    },
    {
     "name": "stderr",
     "output_type": "stream",
     "text": [
      "\n"
     ]
    }
   ],
   "source": [
    "### Calculate Beta\n",
    "''' \n",
    "The beta of a stock i is calculated as:\n",
    "    Beta_i = Cov(R_i, R_m) / Var(R_m)\n",
    "Where:\n",
    "- R_i is the return of the stock\n",
    "- R_m is the return of the market (we'll use the S&P 500)\n",
    "- Cov(R_i, R_m) is the covariance between the stock and the market\n",
    "- Var(R_m) is the variance of the market return\n",
    "'''\n",
    "def get_beta(daily_rets):\n",
    "    # Create empty list to store betas\n",
    "    betas = []\n",
    "    # Get market returns\n",
    "    mkt_data = yf.download('^GSPC', start = '2019-01-01', end = '2024-01-01')['Adj Close']  # S&P 500 index\n",
    "    mkt_rets = mkt_data.pct_change().dropna()\n",
    "    # Ensure daily_rets is indexed by the same dates as market_rets\n",
    "    daily_rets = daily_rets.set_index(mkt_rets.index)\n",
    "    \n",
    "    # Iterate over each stock in daily_rets cols to calculate Cov(R_i, R_m)\n",
    "    for stock in daily_rets.columns:\n",
    "        # Calculate covariance between each stock and market\n",
    "        cov_matrix = np.cov(daily_rets[stock], mkt_rets)\n",
    "        # Covariance between the stock and market is at position [0, 1]\n",
    "        covariance = cov_matrix[0, 1]\n",
    "        # Calculate variance of market returns\n",
    "        mkt_var = np.var(mkt_rets)\n",
    "        # Calculate beta\n",
    "        beta = covariance / mkt_var\n",
    "        betas.append(round(beta, 5))\n",
    "\n",
    "    return betas\n",
    "\n",
    "# Function call to return Betas\n",
    "betas = get_beta(returns)\n",
    "print(betas)\n"
   ]
  },
  {
   "cell_type": "code",
   "execution_count": null,
   "metadata": {},
   "outputs": [],
   "source": [
    "### Compute Expected Returns\n"
   ]
  },
  {
   "cell_type": "code",
   "execution_count": null,
   "metadata": {},
   "outputs": [],
   "source": [
    "### Portfolio Expected Return\n",
    "''' \n",
    "The expected return of the portfolio is calculated as the weighted sum of the individual stock returns:\n",
    "    R_{portfolio} = \\sum_{i=1}^{N} w_i*R_i\n",
    "Where:\n",
    "- R_i is the expected return of each stock\n",
    "- w_i is the weight of each stock in the portfolio\n",
    "'''\n"
   ]
  }
 ],
 "metadata": {
  "kernelspec": {
   "display_name": "base",
   "language": "python",
   "name": "python3"
  },
  "language_info": {
   "codemirror_mode": {
    "name": "ipython",
    "version": 3
   },
   "file_extension": ".py",
   "mimetype": "text/x-python",
   "name": "python",
   "nbconvert_exporter": "python",
   "pygments_lexer": "ipython3",
   "version": "3.8.18"
  }
 },
 "nbformat": 4,
 "nbformat_minor": 2
}
