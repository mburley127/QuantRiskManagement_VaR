{
 "cells": [
  {
   "cell_type": "code",
   "execution_count": 13,
   "metadata": {},
   "outputs": [],
   "source": [
    "### Library Imports\n",
    "import pandas as pd\n",
    "import yfinance as yf\n",
    "import numpy as np\n"
   ]
  },
  {
   "cell_type": "code",
   "execution_count": 14,
   "metadata": {},
   "outputs": [
    {
     "name": "stderr",
     "output_type": "stream",
     "text": [
      "[*********************100%%**********************]  10 of 10 completed\n"
     ]
    },
    {
     "name": "stdout",
     "output_type": "stream",
     "text": [
      "           Date        AAPL        MSFT        GOOG         JNJ         XOM  \\\n",
      "1253 2023-12-22  192.868134  142.557770  151.898438  164.497726  372.543945   \n",
      "1254 2023-12-26  192.320221  142.657669  152.562851  165.470566  372.623505   \n",
      "1255 2023-12-27  192.419830  141.279236  152.768051  166.463058  372.036713   \n",
      "1256 2023-12-28  192.848206  141.119415  152.992767  167.347473  373.240112   \n",
      "1257 2023-12-29  191.802170  140.769806  153.149109  167.150925  373.996002   \n",
      "\n",
      "           TSLA         JPM         UNH        NVDA         PG  \n",
      "1253  48.823704  142.584473  252.539993  516.077576  99.358162  \n",
      "1254  49.272640  143.232239  256.609985  515.799866  99.582405  \n",
      "1255  49.410622  143.350006  261.440002  518.537415  99.114418  \n",
      "1256  49.515610  143.026123  253.179993  520.630249  97.681229  \n",
      "1257  49.515610  143.821106  248.479996  522.187439  97.476494  \n"
     ]
    }
   ],
   "source": [
    "### Function to Import Stock Data\n",
    "def import_stock_data(tickers, start_date, end_date):\n",
    "    data = pd.DataFrame()\n",
    "    if len([tickers]) == 1:\n",
    "        data[tickers] = yf.download(tickers, start_date, end_date)['Adj Close']\n",
    "        data = pd.DataFrame(data)\n",
    "    else:\n",
    "        for t in tickers:\n",
    "            data[t] = yf.download(tickers, start_date, end_date)['Adj Close']\n",
    "    \n",
    "    # Reset index to include the Date as a column\n",
    "    data = data.reset_index()\n",
    "\n",
    "    return data\n",
    "\n",
    "tickers = ['AAPL', 'MSFT', 'GOOG', 'JNJ', 'XOM', 'TSLA', 'JPM', 'UNH', 'NVDA', 'PG']\n",
    "start_date = '2019-01-01'\n",
    "end_date = '2024-01-01'\n",
    "stock_data = import_stock_data(tickers, start_date, end_date)\n",
    "print(stock_data.tail())"
   ]
  },
  {
   "cell_type": "code",
   "execution_count": 18,
   "metadata": {},
   "outputs": [
    {
     "name": "stdout",
     "output_type": "stream",
     "text": [
      "          AAPL      MSFT      GOOG       JNJ       XOM      TSLA       JPM  \\\n",
      "1253 -0.005547  0.006488  0.004004 -0.000597  0.002784 -0.003266  0.007071   \n",
      "1254 -0.002841  0.000701  0.004374  0.005914  0.000214  0.009195  0.004543   \n",
      "1255  0.000518 -0.009663  0.001345  0.005998 -0.001575  0.002800  0.000822   \n",
      "1256  0.002226 -0.001131  0.001471  0.005313  0.003235  0.002125 -0.002259   \n",
      "1257 -0.005424 -0.002477  0.001022 -0.001174  0.002025  0.000000  0.005558   \n",
      "\n",
      "           UNH      NVDA        PG  \n",
      "1253 -0.007701  0.000827  0.001769  \n",
      "1254  0.016116 -0.000538  0.002257  \n",
      "1255  0.018822  0.005307 -0.004699  \n",
      "1256 -0.031594  0.004036 -0.014460  \n",
      "1257 -0.018564  0.002991 -0.002096  \n",
      "[0.32222, 0.31806, 0.19855, 0.31885, 0.30479, 0.51749, 0.21153, 0.64674, 0.29493, 0.34262]\n"
     ]
    }
   ],
   "source": [
    "### Function to Compute Daily Returns\n",
    "''' \n",
    "The percentage change in stock price from day t-1 to day t is given by:\n",
    "    R(i,t) = [P(i,t) - P(i,t-1)]​ / P(i,t-1)\n",
    "In our case, use the pre-built python pct_change() function\n",
    "'''\n",
    "def daily_returns(stock_data):\n",
    "    # Drop the date column\n",
    "    stock_data = stock_data.drop(columns = ['Date'])\n",
    "    # Compute the percentage change\n",
    "    rets = stock_data.pct_change().dropna()\n",
    "    \n",
    "    return rets\n",
    "\n",
    "# Call the function to compute the daily returns for error checking\n",
    "returns = daily_returns(stock_data)\n",
    "print(returns.tail())\n",
    "\n",
    "### Function to Compute Volatilities\n",
    "def volatility(tickers, returns):\n",
    "    # Create list to store volatilities\n",
    "    volatilities = []  \n",
    "    # Iterate over each ticker in tickers list\n",
    "    for ticker in tickers:\n",
    "        # Compute annualized volatility\n",
    "        sigma = np.std(returns[ticker]) * np.sqrt(252)  \n",
    "        volatilities.append(round(sigma, 5))  \n",
    "        \n",
    "    return volatilities\n",
    "\n",
    "# Example usage:\n",
    "vols = volatility(tickers, returns)\n",
    "print(vols)\n"
   ]
  },
  {
   "cell_type": "code",
   "execution_count": 28,
   "metadata": {},
   "outputs": [
    {
     "name": "stdout",
     "output_type": "stream",
     "text": [
      "The sum of the weights is: 0.99999 and should be 1\n",
      "[0.09633, 0.09759, 0.15633, 0.09735, 0.10184, 0.05998, 0.14674, 0.04799, 0.10524, 0.0906]\n"
     ]
    }
   ],
   "source": [
    "### Function to build Risk-Parity Portfolio\n",
    "''' \n",
    "Allocates more weight to less volatile stocks and less weight to more volatile stocks, aiming to equalize the contribution of each \n",
    "stock to the total portfolio risk. Calculation:\n",
    "    1. Estimate the volatility (standard deviation) of each stock's returns\n",
    "    2. Assign weights inversely proportional to the volatility:\n",
    "        w(i) = (1/σ(i)) / ( sum_(j=1)^10 1/σ(j))\n",
    "'''\n",
    "def risk_parity_weights(volatilities):\n",
    "    # Empty list to store weights\n",
    "    weights = []\n",
    "    # Inverse sum volatilities for denominator\n",
    "    inv_sum_vols = sum(1 / vol for vol in volatilities)\n",
    "    # Iterate over values in volatilities list\n",
    "    for vol in volatilities:\n",
    "        # Weights calculation\n",
    "        weight = (1 / vol) / inv_sum_vols\n",
    "        weights.append(round(weight, 5))\n",
    "\n",
    "    return weights\n",
    "\n",
    "weights = risk_parity_weights(vols)\n",
    "print('The sum of the weights is:', round(sum(weights), 6), 'and should be 1')\n",
    "print(weights)\n"
   ]
  }
 ],
 "metadata": {
  "kernelspec": {
   "display_name": "base",
   "language": "python",
   "name": "python3"
  },
  "language_info": {
   "codemirror_mode": {
    "name": "ipython",
    "version": 3
   },
   "file_extension": ".py",
   "mimetype": "text/x-python",
   "name": "python",
   "nbconvert_exporter": "python",
   "pygments_lexer": "ipython3",
   "version": "3.8.18"
  }
 },
 "nbformat": 4,
 "nbformat_minor": 2
}
