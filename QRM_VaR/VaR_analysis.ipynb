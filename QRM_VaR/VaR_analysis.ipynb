{
 "cells": [
  {
   "cell_type": "code",
   "execution_count": 122,
   "metadata": {},
   "outputs": [],
   "source": [
    "### Library Imports\n",
    "import pandas as pd\n",
    "import yfinance as yf\n",
    "import numpy as np\n",
    "from scipy import stats\n",
    "import matplotlib.pyplot as plt\n"
   ]
  },
  {
   "cell_type": "code",
   "execution_count": 123,
   "metadata": {},
   "outputs": [
    {
     "name": "stderr",
     "output_type": "stream",
     "text": [
      "[*********************100%%**********************]  10 of 10 completed\n"
     ]
    },
    {
     "name": "stdout",
     "output_type": "stream",
     "text": [
      "           Date        AAPL        MSFT        GOOG         JNJ         XOM  \\\n",
      "1253 2023-12-22  192.868149  142.370361  151.898438  164.497726  372.543945   \n",
      "1254 2023-12-26  192.320206  142.470123  152.562851  165.470566  372.623505   \n",
      "1255 2023-12-27  192.419830  141.093506  152.768051  166.463058  372.036713   \n",
      "1256 2023-12-28  192.848206  140.933899  152.992767  167.347473  373.240112   \n",
      "1257 2023-12-29  191.802170  140.584747  153.149124  167.150925  373.995972   \n",
      "\n",
      "           TSLA         JPM         UNH        NVDA         PG  \n",
      "1253  48.819527  142.584473  252.539993  516.077576  99.358162  \n",
      "1254  49.268425  143.232239  256.609985  515.799866  99.582397  \n",
      "1255  49.406395  143.350006  261.440002  518.537415  99.114418  \n",
      "1256  49.511375  143.026123  253.179993  520.630249  97.681236  \n",
      "1257  49.511375  143.821106  248.479996  522.187439  97.476486  \n"
     ]
    }
   ],
   "source": [
    "### Function to Import Stock Data\n",
    "def import_stock_data(tickers, start_date, end_date):\n",
    "    data = pd.DataFrame()\n",
    "    if len([tickers]) == 1:\n",
    "        data[tickers] = yf.download(tickers, start_date, end_date)['Adj Close']\n",
    "        data = pd.DataFrame(data)\n",
    "    else:\n",
    "        for t in tickers:\n",
    "            data[t] = yf.download(tickers, start_date, end_date)['Adj Close']\n",
    "    \n",
    "    # Reset index to include the Date as a column\n",
    "    data = data.reset_index()\n",
    "\n",
    "    return data\n",
    "\n",
    "tickers = ['AAPL', 'MSFT', 'GOOG', 'JNJ', 'XOM', 'TSLA', 'JPM', 'UNH', 'NVDA', 'PG']\n",
    "start_date = '2019-01-01'\n",
    "end_date = '2024-01-01'\n",
    "stock_data = import_stock_data(tickers, start_date, end_date)\n",
    "print(stock_data.tail())\n"
   ]
  },
  {
   "cell_type": "code",
   "execution_count": 124,
   "metadata": {},
   "outputs": [
    {
     "name": "stdout",
     "output_type": "stream",
     "text": [
      "          AAPL      MSFT      GOOG       JNJ       XOM      TSLA       JPM  \\\n",
      "1253 -0.005547  0.006488  0.004004 -0.000597  0.002784 -0.003266  0.007071   \n",
      "1254 -0.002841  0.000701  0.004374  0.005914  0.000214  0.009195  0.004543   \n",
      "1255  0.000518 -0.009662  0.001345  0.005998 -0.001575  0.002800  0.000822   \n",
      "1256  0.002226 -0.001131  0.001471  0.005313  0.003235  0.002125 -0.002259   \n",
      "1257 -0.005424 -0.002477  0.001022 -0.001174  0.002025  0.000000  0.005558   \n",
      "\n",
      "           UNH      NVDA        PG  \n",
      "1253 -0.007701  0.000827  0.001769  \n",
      "1254  0.016116 -0.000538  0.002257  \n",
      "1255  0.018822  0.005307 -0.004699  \n",
      "1256 -0.031594  0.004036 -0.014460  \n",
      "1257 -0.018564  0.002991 -0.002096  \n",
      "[0.0203, 0.02004, 0.01251, 0.02009, 0.0192, 0.0326, 0.01333, 0.04074, 0.01858, 0.02158]\n"
     ]
    }
   ],
   "source": [
    "### Function to Compute Daily Returns\n",
    "''' \n",
    "The percentage change in stock price from day t-1 to day t is given by:\n",
    "    R(i,t) = [P(i,t) - P(i,t-1)]​ / P(i,t-1)\n",
    "In our case, use the pre-built python pct_change() function\n",
    "'''\n",
    "def daily_returns(stock_data):\n",
    "    # Drop the date column\n",
    "    stock_data = stock_data.drop(columns = ['Date'])\n",
    "    # Compute the percentage change\n",
    "    rets = stock_data.pct_change().dropna()\n",
    "    \n",
    "    return rets\n",
    "\n",
    "# Call the function to compute the daily returns for error checking\n",
    "returns = daily_returns(stock_data)\n",
    "print(returns.tail())\n",
    "\n",
    "### Function to Compute Volatilities\n",
    "def volatility(tickers, returns):\n",
    "    # Create list to store volatilities\n",
    "    volatilities = []  \n",
    "    # Iterate over each ticker in tickers list\n",
    "    for ticker in tickers:\n",
    "        # Compute daily volatility (no annualization)\n",
    "        sigma = np.std(returns[ticker])  # Removed np.sqrt(252)\n",
    "        volatilities.append(round(sigma, 5))  \n",
    "        \n",
    "    return volatilities\n",
    "\n",
    "# Call the function to compute the volatility for each stock\n",
    "vols = volatility(tickers, returns)\n",
    "print(vols)\n"
   ]
  },
  {
   "cell_type": "code",
   "execution_count": 125,
   "metadata": {},
   "outputs": [
    {
     "name": "stdout",
     "output_type": "stream",
     "text": [
      "The sum of the weights is: 0.99999 and should be 1\n",
      "[0.09633, 0.09758, 0.15632, 0.09734, 0.10185, 0.05999, 0.14671, 0.048, 0.10525, 0.09062]\n"
     ]
    }
   ],
   "source": [
    "### Function to build Risk-Parity Portfolio\n",
    "''' \n",
    "The Risk-Parity Portfolio method allocates more weight to less volatile stocks and less weight to more volatile stocks, \n",
    "aiming to equalize the contribution of each stock to the total portfolio risk. Calculation is as follows:\n",
    "    1. Estimate the volatility (standard deviation) of each stock's returns\n",
    "    2. Assign weights inversely proportional to the volatility:\n",
    "        w(i) = (1/σ(i)) / (sum_(j=1)^10 1/σ(j))\n",
    "'''\n",
    "def risk_parity_weights(volatilities):\n",
    "    # Empty list to store weights\n",
    "    weights = []\n",
    "    # Inverse sum volatilities for denominator\n",
    "    inv_sum_vols = sum(1 / vol for vol in volatilities)\n",
    "    # Iterate over values in volatilities list\n",
    "    for vol in volatilities:\n",
    "        # Weights calculation\n",
    "        weight = (1 / vol) / inv_sum_vols\n",
    "        weights.append(round(weight, 5))\n",
    "\n",
    "    return weights\n",
    "\n",
    "weights = risk_parity_weights(vols)\n",
    "print('The sum of the weights is:', round(sum(weights), 6), 'and should be 1')\n",
    "print(weights)\n"
   ]
  },
  {
   "cell_type": "code",
   "execution_count": 126,
   "metadata": {},
   "outputs": [
    {
     "name": "stdout",
     "output_type": "stream",
     "text": [
      "           Date  Portfolio_Returns\n",
      "1253 2023-12-22           0.001669\n",
      "1254 2023-12-26           0.003215\n",
      "1255 2023-12-27           0.001066\n",
      "1256 2023-12-28          -0.001425\n",
      "1257 2023-12-29          -0.000463\n"
     ]
    }
   ],
   "source": [
    "### Compute Daily Portfolio Returns\n",
    "''' \n",
    "The daily portfolio return is computed as the weighted sum of the returns of each stock for that particular day, equation:\n",
    "   R_{portfolio,t} = (sum_(i=1)^10 w_i * R_{i,t})\n",
    "\n",
    "For Each Day t (e.g., Day 1):\n",
    "    Take the return of stock 1 on day 1 and multiply it by the weight of stock 1.\n",
    "    Take the return of stock 2 on day 1 and multiply it by the weight of stock 2.\n",
    "    Repeat this for all 10 stocks.\n",
    "\n",
    "Then, sum all these weighted returns to get the portfolio return for day 1:\n",
    "    R_{portfolio,t=1} = w_1R_{1,1} + w_2R_{2,1} +...+ w_10R_{10,1}\n",
    "'''\n",
    "# Compute the portfolio returns by multiplying the daily returns with the weights\n",
    "portfolio_rets = returns.dot(weights)\n",
    "# Convert portfolio rets to df\n",
    "dates = stock_data['Date']\n",
    "portfolio_rets_df = pd.DataFrame({\n",
    "    'Date': dates,\n",
    "    'Portfolio_Returns': portfolio_rets\n",
    "})\n",
    "# Display the portfolio returns\n",
    "print(portfolio_rets_df.tail())\n"
   ]
  },
  {
   "cell_type": "code",
   "execution_count": 127,
   "metadata": {},
   "outputs": [
    {
     "name": "stdout",
     "output_type": "stream",
     "text": [
      "          AAPL      MSFT      GOOG       JNJ       XOM      TSLA       JPM  \\\n",
      "AAPL  0.000412  0.000274  0.000103  0.000186  0.000296  0.000435  0.000120   \n",
      "MSFT  0.000274  0.000402  0.000086  0.000176  0.000290  0.000408  0.000100   \n",
      "GOOG  0.000103  0.000086  0.000157  0.000104  0.000100  0.000095  0.000100   \n",
      "JNJ   0.000186  0.000176  0.000104  0.000404  0.000174  0.000246  0.000105   \n",
      "XOM   0.000296  0.000290  0.000100  0.000174  0.000369  0.000443  0.000124   \n",
      "TSLA  0.000435  0.000408  0.000095  0.000246  0.000443  0.001064  0.000126   \n",
      "JPM   0.000120  0.000100  0.000100  0.000105  0.000124  0.000126  0.000178   \n",
      "UNH   0.000404  0.000333  0.000055  0.000226  0.000355  0.000666  0.000066   \n",
      "NVDA  0.000171  0.000149  0.000121  0.000178  0.000173  0.000210  0.000117   \n",
      "PG    0.000139  0.000130  0.000083  0.000256  0.000116  0.000169  0.000068   \n",
      "\n",
      "           UNH      NVDA        PG  \n",
      "AAPL  0.000404  0.000171  0.000139  \n",
      "MSFT  0.000333  0.000149  0.000130  \n",
      "GOOG  0.000055  0.000121  0.000083  \n",
      "JNJ   0.000226  0.000178  0.000256  \n",
      "XOM   0.000355  0.000173  0.000116  \n",
      "TSLA  0.000666  0.000210  0.000169  \n",
      "JPM   0.000066  0.000117  0.000068  \n",
      "UNH   0.001661  0.000155  0.000150  \n",
      "NVDA  0.000155  0.000345  0.000150  \n",
      "PG    0.000150  0.000150  0.000466  \n"
     ]
    }
   ],
   "source": [
    "### Build Variance-Covariance Matrix\n",
    "''' \n",
    "The covariance between two stocks i and j is calculated as:\n",
    "    Cov(R_i, R_j) = (1 / (T - 1)) * sum_{t=1}^T (R_{i,t} - R̄_i)(R_{j,t} - R̄_j)\n",
    "Where:\n",
    "    R_{i,t} and R_{j,t} are the daily returns of stocks i and j on day t,\n",
    "    R̄_i and R̄_j are the average returns of stocks i and j over the period,\n",
    "    T is the number of time periods\n",
    "We will check our work using the pre-defined .cov() function\n",
    "'''\n",
    "def var_cov_matrix(tickers, daily_rets):\n",
    "    # Initialize Empty Covariance Matrix\n",
    "    num_stocks = len(daily_rets.columns)\n",
    "    matrix = np.zeros((num_stocks, num_stocks))\n",
    "    # Find T (number of days)\n",
    "    T = len(returns)\n",
    "    # Calculate the mean of each stock's returns\n",
    "    mean_returns = daily_rets.mean()\n",
    "    # Iterate to populate cov matrix\n",
    "    for i in range(num_stocks):\n",
    "        for j in range(num_stocks):\n",
    "            # Covariance Matrix equation w/ indexing\n",
    "            matrix[i, j] = (1 / (T - 1)) * np.sum((daily_rets.iloc[:, i] - mean_returns[i]) * (daily_rets.iloc[:, j] - mean_returns[j]))\n",
    "\n",
    "    # Convert the covariance matrix to a DataFrame for readability\n",
    "    cov_matrix_df = pd.DataFrame(matrix, index = daily_rets.columns, columns = daily_rets.columns)\n",
    "\n",
    "    return cov_matrix_df\n",
    "\n",
    "cov_matrix = var_cov_matrix(tickers, returns)\n",
    "print(cov_matrix)\n"
   ]
  },
  {
   "cell_type": "markdown",
   "metadata": {},
   "source": [
    "### Covariance Between Two Stocks:\n",
    "Each element in the covariance matrix represents the covariance between two stocks. Covariance is a measure of how two stocks' returns move together:\n",
    "\n",
    "- **Positive Covariance**: If the covariance between two stocks is positive, it means that their returns tend to move in the same direction. When one stock’s return increases, the other’s return is likely to increase as well.\n",
    "- **Negative Covariance**: A negative covariance indicates that the returns of the two stocks move in opposite directions. When one stock’s return increases, the other’s return tends to decrease.\n",
    "- **Zero Covariance**: If the covariance is close to zero, the two stocks are not strongly correlated, meaning their returns move independently of each other.\n",
    "\n",
    "### Variance of Each Stock (Diagonal Elements):\n",
    "The diagonal elements of the covariance matrix represent the variance of each individual stock, which is the covariance of the stock with itself.\n",
    "Variance is a measure of the dispersion of a stock’s returns around its mean. A higher variance means the stock’s returns are more spread out, indicating higher volatility (risk).\n",
    "\n",
    "For stock \\(i\\), the variance is:\n",
    "    Var(R_i) = Cov(R_i, R_i)\n"
   ]
  },
  {
   "cell_type": "code",
   "execution_count": 128,
   "metadata": {},
   "outputs": [
    {
     "name": "stdout",
     "output_type": "stream",
     "text": [
      "Variance: 0.0001822639751559573\n",
      "Volatility: 0.013500517588446649\n"
     ]
    }
   ],
   "source": [
    "### Calculate Portfolio Variance and Volatility\n",
    "''' \n",
    "The portfolio variance is calculated as:\n",
    "    Var(R_{portfolio}) = w^T \\Sigma w\n",
    "Where:\n",
    "- w^T is the transpose of the weight vector\n",
    "- Sigma is the covariance matrix\n",
    "- w is the vector of portfolio weights\n",
    "'''\n",
    "def calc_var_and_vol(weights, cov_matrix):\n",
    "    # Compute transpose of weights matrix\n",
    "    weights_arr = np.array(weights) # Convert weights to an array\n",
    "    transpose = weights_arr.T\n",
    "    # Perform matrix multiplication (dot product) between covariance matrix and weights vector\n",
    "    prod = np.dot(cov_matrix, weights)\n",
    "    # Compute the dot product between prod and the weights transpose\n",
    "    var = np.dot(transpose, prod)\n",
    "\n",
    "    # Compute the portfolio volatility = sqrt(var)\n",
    "    vol = np.sqrt(var)\n",
    "\n",
    "    return var, vol\n",
    "\n",
    "variance, volatility = calc_var_and_vol(weights, cov_matrix)\n",
    "print('Variance:', variance)\n",
    "print('Volatility:', volatility)\n"
   ]
  },
  {
   "cell_type": "code",
   "execution_count": 129,
   "metadata": {},
   "outputs": [
    {
     "name": "stderr",
     "output_type": "stream",
     "text": [
      "[*********************100%%**********************]  1 of 1 completed"
     ]
    },
    {
     "name": "stdout",
     "output_type": "stream",
     "text": [
      "Coomputed Market Returns: Date\n",
      "2019-01-03   -0.024757\n",
      "2019-01-04    0.034336\n",
      "2019-01-07    0.007010\n",
      "2019-01-08    0.009695\n",
      "2019-01-09    0.004098\n",
      "                ...   \n",
      "2023-12-22    0.001660\n",
      "2023-12-26    0.004232\n",
      "2023-12-27    0.001430\n",
      "2023-12-28    0.000370\n",
      "2023-12-29   -0.002826\n",
      "Name: Adj Close, Length: 1257, dtype: float64\n",
      "Annualized Expected Return of the Market: 0.1636 and the percentage is: 16.36%\n"
     ]
    },
    {
     "name": "stderr",
     "output_type": "stream",
     "text": [
      "\n"
     ]
    }
   ],
   "source": [
    "### Calculate Market Returns\n",
    "def market_returns():\n",
    "    # Get market returns\n",
    "    mkt_data = yf.download('^GSPC', start = '2019-01-01', end = '2024-01-01')['Adj Close']  # S&P 500 index\n",
    "    mkt_rets = mkt_data.pct_change().dropna()\n",
    "    # Calculate the average return (expected return of the market)\n",
    "    R_m = np.mean(mkt_rets)\n",
    "    # Annualized return\n",
    "    ann_R_m = ((1 + R_m) ** 252) - 1  # 252 trading days in a year\n",
    "\n",
    "    return mkt_rets, ann_R_m\n",
    "\n",
    "# Function call to compute the market returns and the annualized R_m\n",
    "market_rets, annualized_R_m = market_returns()\n",
    "print('Coomputed Market Returns:', market_rets)\n",
    "print('Annualized Expected Return of the Market:', round(annualized_R_m, 4), 'and the percentage is:', str(round(annualized_R_m * 100, 2)) + '%')\n"
   ]
  },
  {
   "cell_type": "code",
   "execution_count": 130,
   "metadata": {},
   "outputs": [
    {
     "name": "stdout",
     "output_type": "stream",
     "text": [
      "[1.21659, 1.1317, 0.52445, 1.09952, 1.18308, 1.73021, 0.58526, 1.50446, 0.86173, 0.88562]\n"
     ]
    }
   ],
   "source": [
    "### Calculate Beta\n",
    "''' \n",
    "The beta of a stock i is calculated as:\n",
    "    Beta_i = Cov(R_i, R_m) / Var(R_m)\n",
    "Where:\n",
    "- R_i is the return of the stock\n",
    "- R_m is the return of the market (we'll use the S&P 500)\n",
    "- Cov(R_i, R_m) is the covariance between the stock and the market\n",
    "- Var(R_m) is the variance of the market return\n",
    "'''\n",
    "def get_beta(mkt_rets, daily_rets):\n",
    "    # Create empty list to store betas\n",
    "    betas = []\n",
    "    # Ensure daily_rets is indexed by the same dates as market_rets\n",
    "    daily_rets = daily_rets.set_index(mkt_rets.index)\n",
    "    \n",
    "    # Iterate over each stock in daily_rets cols to calculate Cov(R_i, R_m)\n",
    "    for stock in daily_rets.columns:\n",
    "        # Calculate covariance between each stock and market\n",
    "        cov_matrix = np.cov(daily_rets[stock], mkt_rets)\n",
    "        # Covariance between the stock and market is at position [0, 1]\n",
    "        covariance = cov_matrix[0, 1]\n",
    "        # Calculate variance of market returns\n",
    "        mkt_var = np.var(mkt_rets)\n",
    "        # Calculate beta\n",
    "        beta = covariance / mkt_var\n",
    "        betas.append(round(beta, 5))\n",
    "\n",
    "    return betas\n",
    "\n",
    "# Function call to return Betas\n",
    "betas = get_beta(market_rets, returns)\n",
    "print(betas)\n"
   ]
  },
  {
   "cell_type": "code",
   "execution_count": 131,
   "metadata": {},
   "outputs": [
    {
     "name": "stdout",
     "output_type": "stream",
     "text": [
      "[0.19473, 0.18254, 0.09532, 0.17792, 0.18992, 0.2685, 0.10406, 0.23608, 0.14376, 0.1472]\n"
     ]
    }
   ],
   "source": [
    "### Compute Expected Returns via CAPM\n",
    "''' \n",
    "CAPM Formula:\n",
    "    R_{expected} = R_f + Beta*(R_m - R_f)\n",
    "Where:\n",
    "- R_f is the risk-free rate (ex - bond yield)\n",
    "- Beta is the stock's beta, a measure of its sensitivity to the market\n",
    "- R_m is the expected return of the market (S&P 500)\n",
    "- R_m - R_f is called the market risk premium\n",
    "'''\n",
    "def capm(r_f, betas, ann_r_m):\n",
    "    # create empty array for expected return vals\n",
    "    r_expected = []\n",
    "    # calculate market risk premium\n",
    "    mkt_risk_prem = ann_r_m - r_f\n",
    "    # compute CAPM expected returns\n",
    "    for beta in betas:\n",
    "        r_exp = r_f + beta*mkt_risk_prem\n",
    "        r_expected.append(round(r_exp, 5))\n",
    "    \n",
    "    return r_expected\n",
    "\n",
    "# Return CAPM expected returns function\n",
    "r_f = 0.02\n",
    "expected_rets = capm(r_f, betas, annualized_R_m)\n",
    "print(expected_rets)\n"
   ]
  },
  {
   "cell_type": "code",
   "execution_count": 132,
   "metadata": {},
   "outputs": [
    {
     "name": "stdout",
     "output_type": "stream",
     "text": [
      "Daily Expected Portfolio Return: 0.0006321781861111111\n",
      "Annual Expected Portfolio Return: 0.1593089029\n"
     ]
    }
   ],
   "source": [
    "### Portfolio Expected Return\n",
    "''' \n",
    "The expected return of the portfolio is calculated as the weighted sum of the individual stock returns:\n",
    "    R_{portfolio} = \\sum_{i=1}^{N} w_i * R_i\n",
    "Where:\n",
    "- R_i is the expected return of each stock\n",
    "- w_i is the weight of each stock in the portfolio\n",
    "'''\n",
    "def calc_exp_port_rets(exp_rets, weights):\n",
    "    # Calculate the total portfolio expected return by summing weighted returns\n",
    "    exp_port_ret = 0  # Initialize total expected return\n",
    "    # Iterate over the indices of the expected rets or weights list\n",
    "    for i in range(len(exp_rets)):\n",
    "        port_ret = exp_rets[i] * weights[i]\n",
    "        exp_port_ret += port_ret\n",
    "    \n",
    "    # Convert annualized expected portfolio return to daily for daily VaR time horizon\n",
    "    daily_exp_port_ret = exp_port_ret / 252\n",
    "\n",
    "    return exp_port_ret, daily_exp_port_ret\n",
    "\n",
    "# Example usage\n",
    "ann_exp_port_ret, daily_expected_portfolio_return = calc_exp_port_rets(expected_rets, weights)\n",
    "print(\"Daily Expected Portfolio Return:\", daily_expected_portfolio_return)\n",
    "print(\"Annual Expected Portfolio Return:\", ann_exp_port_ret)\n"
   ]
  },
  {
   "cell_type": "code",
   "execution_count": 138,
   "metadata": {},
   "outputs": [
    {
     "name": "stdout",
     "output_type": "stream",
     "text": [
      "VCV VaR at 95% confidence level: -0.022206375321078612\n",
      "The Parametric VaR at 95% confidence level of -0.0222 means that, under normal market conditions, there is a 95% probability that the maximum expected loss of your portfolio over the given time horizon of one day will not exceed -2.22% of the portfolio's value.\n"
     ]
    }
   ],
   "source": [
    "### Compute Variance-Covariance VaR\n",
    "def compute_vcv_var(cov_matrix, weights, confidence_level = 0.95, time_horizon = 1):\n",
    "    # Convert weights to a numpy array\n",
    "    weights_arr = np.array(weights)\n",
    "    # Compute portfolio variance using the covariance matrix and weights\n",
    "    portfolio_variance = np.dot(weights_arr.T, np.dot(cov_matrix, weights))\n",
    "    portfolio_volatility = np.sqrt(portfolio_variance)  # Portfolio standard deviation\n",
    "\n",
    "    # Get the z-score for the given confidence level\n",
    "    z_score = stats.norm.ppf(1 - confidence_level)\n",
    "\n",
    "    # Calculate VCV VaR\n",
    "    vcv_var_value = z_score * portfolio_volatility * np.sqrt(time_horizon)\n",
    "    \n",
    "    return vcv_var_value\n",
    "\n",
    "# Calculate VCV VaR\n",
    "vcv_var = compute_vcv_var(cov_matrix, weights)\n",
    "print(f\"VCV VaR at 95% confidence level: {vcv_var}\")\n",
    "print(f'The Parametric VaR at 95% confidence level of {vcv_var:.4f} means that, under normal market conditions, '\n",
    "      f'there is a 95% probability that the maximum expected loss of your portfolio over the given time horizon '\n",
    "      f'of one day will not exceed {vcv_var * 100:.2f}% of the portfolio\\'s value.')\n"
   ]
  },
  {
   "cell_type": "code",
   "execution_count": 137,
   "metadata": {},
   "outputs": [
    {
     "name": "stdout",
     "output_type": "stream",
     "text": [
      "Parametric VaR at 95% confidence level: -0.022838553507189722\n",
      "The Parametric VaR at 95% confidence level of -0.0228 means that, under normal market conditions, there is a 95% probability that the maximum expected loss of your portfolio over the given time horizon of one day will not exceed -2.28% of the portfolio's value.\n"
     ]
    }
   ],
   "source": [
    "### Parametric VaR calculation\n",
    "''' \n",
    "You can calculate VaR using the following formula for normal distribution:\n",
    "    VaR = mu_p - z_alpha * sigma_p\n",
    "Where:\n",
    "- mu_p is the portfolio's expected return\n",
    "- z_alpha is the z-score corresponding to the confidence level (e.g., -1.645 for 95% confidence)\n",
    "- sigma_p is the portfolio's standard deviation (volatility)\n",
    "'''\n",
    "def parametric_var(expected_return, portfolio_volatility, confidence_level = 0.95, time_horizon = 1):\n",
    "    # Get the z-score for the given confidence level (negative because we focus on losses)\n",
    "    z_score = stats.norm.ppf(1 - confidence_level)\n",
    "    # Calculate VaR\n",
    "    var = expected_return - z_score * portfolio_volatility * np.sqrt(time_horizon)\n",
    "    # Flip the sign to negative to indicate portfolio losses\n",
    "    neg_var = -var\n",
    "    \n",
    "    return neg_var\n",
    "\n",
    "# Function Call to Calculate VaR\n",
    "para_var = parametric_var(daily_expected_portfolio_return, volatility, confidence_level = 0.95, time_horizon = 1)\n",
    "print(f\"Parametric VaR at 95% confidence level: {para_var}\")\n",
    "print(f'The Parametric VaR at 95% confidence level of {para_var:.4f} means that, under normal market conditions, '\n",
    "      f'there is a 95% probability that the maximum expected loss of your portfolio over the given time horizon '\n",
    "      f'of one day will not exceed {para_var * 100:.2f}% of the portfolio\\'s value.')\n"
   ]
  },
  {
   "cell_type": "code",
   "execution_count": 139,
   "metadata": {},
   "outputs": [
    {
     "data": {
      "image/png": "[encoded data removed]",
      "text/plain": [
       "<Figure size 640x480 with 1 Axes>"
      ]
     },
     "metadata": {},
     "output_type": "display_data"
    },
    {
     "data": {
      "image/png": "[encoded data removed]",
      "text/plain": [
       "<Figure size 640x480 with 1 Axes>"
      ]
     },
     "metadata": {},
     "output_type": "display_data"
    }
   ],
   "source": [
    "### Function to Plot VaR Graph (for both Parametric and VCV VaR)\n",
    "def plot_var_graph(var_type, mu, sigma, var_value, confidence_level = 0.95, title = 'VaR Graph'):\n",
    "    # Generate a range of portfolio returns (x-axis values)\n",
    "    x = np.linspace(mu - 3 * sigma, mu + 3 * sigma, 1000)\n",
    "    \n",
    "    # Generate the probability density function (pdf) values for the normal distribution\n",
    "    y = stats.norm.pdf(x, mu, sigma)\n",
    "    \n",
    "    # Plot the normal distribution curve\n",
    "    plt.plot(x, y, label = 'Normal Distribution', color = 'blue')\n",
    "    \n",
    "    # Add a vertical line at the VaR threshold\n",
    "    plt.axvline(var_value, color = 'red' if var_type == 'Parametric' else 'green', linestyle='--', \n",
    "                label=f'{var_type} VaR ({int(confidence_level * 100)}%): {var_value:.2%}')\n",
    "    \n",
    "    # Fill the area under the curve to the left of the VaR threshold\n",
    "    plt.fill_between(x, 0, y, where = (x <= var_value), color = 'red' if var_type == 'Parametric' else 'green', alpha = 0.5)\n",
    "    \n",
    "    # Add labels and title\n",
    "    plt.title(title)\n",
    "    plt.xlabel('Returns')\n",
    "    plt.ylabel('Probability Density')\n",
    "    \n",
    "    # Add legend\n",
    "    plt.legend()\n",
    "    \n",
    "    # Show the plot\n",
    "    plt.show()\n",
    "\n",
    "# Graph Parametric VaR\n",
    "plot_var_graph(var_type = 'Parametric', mu = daily_expected_portfolio_return, sigma = volatility, \n",
    "               var_value = para_var, title = 'Normal Distribution with Parametric VaR')\n",
    "# Graph VCV VaR\n",
    "plot_var_graph(var_type = 'VCV', mu = daily_expected_portfolio_return, sigma = volatility, \n",
    "               var_value = vcv_var, title = 'Normal Distribution with VCV VaR')\n"
   ]
  }
 ],
 "metadata": {
  "kernelspec": {
   "display_name": "base",
   "language": "python",
   "name": "python3"
  },
  "language_info": {
   "codemirror_mode": {
    "name": "ipython",
    "version": 3
   },
   "file_extension": ".py",
   "mimetype": "text/x-python",
   "name": "python",
   "nbconvert_exporter": "python",
   "pygments_lexer": "ipython3",
   "version": "3.8.18"
  }
 },
 "nbformat": 4,
 "nbformat_minor": 2
}
